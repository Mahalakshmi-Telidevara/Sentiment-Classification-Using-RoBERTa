{
  "cells": [
    {
      "cell_type": "markdown",
      "metadata": {
        "id": "view-in-github",
        "colab_type": "text"
      },
      "source": [
        "<a href=\"https://colab.research.google.com/github/Mahalakshmi-Telidevara/Sentiment-Classification-Using-RoBERTa/blob/main/sentiment_Classification_Using_RoBERTa.ipynb\" target=\"_parent\"><img src=\"https://colab.research.google.com/assets/colab-badge.svg\" alt=\"Open In Colab\"/></a>"
      ]
    },
    {
      "cell_type": "code",
      "execution_count": null,
      "metadata": {
        "collapsed": true,
        "id": "cBOo186Kz1kx"
      },
      "outputs": [],
      "source": [
        "!pip install pandas numpy joblib matplotlib scikit-learn datasets"
      ]
    },
    {
      "cell_type": "code",
      "execution_count": null,
      "metadata": {
        "collapsed": true,
        "id": "61qkGyom_sDg"
      },
      "outputs": [],
      "source": [
        "!pip install -U transformers==4.51.3"
      ]
    },
    {
      "cell_type": "code",
      "execution_count": 3,
      "metadata": {
        "id": "A-Kecu6d_yKr"
      },
      "outputs": [],
      "source": [
        "# 1. Import Libraries\n",
        "import pandas as pd\n",
        "import numpy as np\n",
        "import joblib\n",
        "import matplotlib.pyplot as plt\n",
        "import seaborn as sns\n",
        "from sklearn.model_selection import train_test_split\n",
        "from sklearn.feature_extraction.text import TfidfVectorizer\n",
        "from sklearn.svm import SVC\n",
        "from sklearn.ensemble import RandomForestClassifier\n",
        "from sklearn.metrics import classification_report, accuracy_score, precision_score, recall_score, f1_score, confusion_matrix\n",
        "from sklearn.preprocessing import LabelEncoder\n",
        "from imblearn.over_sampling import SMOTE\n",
        "import torch\n",
        "from transformers import RobertaTokenizer, RobertaForSequenceClassification, Trainer, TrainingArguments\n",
        "from datasets import Dataset"
      ]
    },
    {
      "cell_type": "code",
      "execution_count": null,
      "metadata": {
        "collapsed": true,
        "id": "iVlGg4Nn_yKs"
      },
      "outputs": [],
      "source": [
        "# Load Dataset\n",
        "try:\n",
        "    df = pd.read_csv('twitter_multi_class_sentiment.csv')\n",
        "    if not df.empty:\n",
        "        print(\"Dataset uploaded successfully!\\n\")\n",
        "        print(\"First few rows:\\n\", df.head())\n",
        "        print(\"\\nLast few rows:\\n\", df.tail())\n",
        "        print(\"\\nUnique sentiment labels:\", df['label_name'].unique())\n",
        "    else:\n",
        "        print(\"Dataset upload unsuccessful: File is empty.\")\n",
        "except FileNotFoundError:\n",
        "    print(\"Dataset upload unsuccessful: File not found.\")\n",
        "except Exception as e:\n",
        "    print(\"Dataset upload unsuccessful:\", str(e))"
      ]
    },
    {
      "cell_type": "code",
      "execution_count": null,
      "metadata": {
        "collapsed": true,
        "id": "54INvJ54_yKs"
      },
      "outputs": [],
      "source": [
        "# 3. Preprocess the data\n",
        "df.dropna(subset=['label_name'], inplace=True)\n",
        "label_encoder = LabelEncoder()\n",
        "df['encoded_label'] = label_encoder.fit_transform(df['label_name'])\n",
        "X_train, X_test, y_train, y_test = train_test_split(df['text'], df['encoded_label'], test_size=0.2, random_state=42)\n",
        "\n",
        "# Check class distribution in the dataset\n",
        "print(\"Original dataset class distribution:\")\n",
        "print(df['encoded_label'].value_counts())\n",
        "print(\"\\nTraining set class distribution:\")\n",
        "print(y_train.value_counts())\n",
        "print(\"\\nTesting set class distribution:\")\n",
        "print(y_test.value_counts())\n",
        "print(\"Preprocessing completed successfully!\")"
      ]
    },
    {
      "cell_type": "code",
      "execution_count": null,
      "metadata": {
        "id": "UEjJKE0U_d4T"
      },
      "outputs": [],
      "source": [
        "# 4. TF-IDF Vectorization\n",
        "vectorizer = TfidfVectorizer(max_features=5000)\n",
        "X_train_tfidf = vectorizer.fit_transform(X_train)\n",
        "X_test_tfidf = vectorizer.transform(X_test)"
      ]
    },
    {
      "cell_type": "code",
      "execution_count": null,
      "metadata": {
        "id": "9DzXDLib_mR3",
        "collapsed": true
      },
      "outputs": [],
      "source": [
        "# 5. Train SVM Model\n",
        "print(\"Training SVM model...\")\n",
        "svm_model = SVC(kernel='linear', probability=True)\n",
        "svm_model.fit(X_train_tfidf, y_train)"
      ]
    },
    {
      "cell_type": "code",
      "execution_count": null,
      "metadata": {
        "id": "8CzIh9h-_rRq"
      },
      "outputs": [],
      "source": [
        "# 6. Predictions\n",
        "y_pred_svm = svm_model.predict(X_test_tfidf)"
      ]
    },
    {
      "cell_type": "code",
      "execution_count": null,
      "metadata": {
        "collapsed": true,
        "id": "HTlLchh0_seR"
      },
      "outputs": [],
      "source": [
        "# 7. Classification report of SVM\n",
        "print(\"SVM Classification Report:\")\n",
        "print(classification_report(y_test, y_pred_svm, target_names=label_encoder.classes_))"
      ]
    },
    {
      "cell_type": "code",
      "execution_count": null,
      "metadata": {
        "id": "MuTIzP3xDkjB"
      },
      "outputs": [],
      "source": [
        "# 8. Calculate SVM performance\n",
        "svm_eval_results = {\n",
        "    'accuracy': accuracy_score(y_test, y_pred_svm),\n",
        "    'precision': precision_score(y_test, y_pred_svm, average='weighted'),\n",
        "    'recall': recall_score(y_test, y_pred_svm, average='weighted'),\n",
        "    'f1-score': f1_score(y_test, y_pred_svm, average='weighted')\n",
        "}"
      ]
    },
    {
      "cell_type": "code",
      "execution_count": null,
      "metadata": {
        "id": "S57WeKsv_xKH",
        "collapsed": true
      },
      "outputs": [],
      "source": [
        "# 9. Save model and vectorizer\n",
        "joblib.dump(svm_model, \"svm_model.pkl\")\n",
        "joblib.dump(vectorizer, \"tfidf_vectorizer.pkl\")"
      ]
    },
    {
      "cell_type": "code",
      "execution_count": null,
      "metadata": {
        "collapsed": true,
        "id": "iC2UVOKSHs0R"
      },
      "outputs": [],
      "source": [
        "# 10. Train Random Forest Model\n",
        "print(\"Training Random Forest model...\")\n",
        "rf_model = RandomForestClassifier(n_estimators=100, random_state=42)\n",
        "rf_model.fit(X_train_tfidf, y_train)"
      ]
    },
    {
      "cell_type": "code",
      "execution_count": null,
      "metadata": {
        "id": "LJASxgE7I4NO"
      },
      "outputs": [],
      "source": [
        "# 11. Predictions\n",
        "y_pred_rf = rf_model.predict(X_test_tfidf)"
      ]
    },
    {
      "cell_type": "code",
      "execution_count": null,
      "metadata": {
        "collapsed": true,
        "id": "MqNWsemHI84F"
      },
      "outputs": [],
      "source": [
        "# 12. Classification report\n",
        "print(\"Random Forest Classification Report:\")\n",
        "print(classification_report(y_test, y_pred_rf, target_names=label_encoder.classes_))"
      ]
    },
    {
      "cell_type": "code",
      "execution_count": null,
      "metadata": {
        "id": "Lzy0C9zUJUUH"
      },
      "outputs": [],
      "source": [
        "# 13. Calculate Random Forest performance\n",
        "rf_eval_results = {\n",
        "    'accuracy': accuracy_score(y_test, y_pred_rf),\n",
        "    'precision': precision_score(y_test, y_pred_rf, average='weighted'),\n",
        "    'recall': recall_score(y_test, y_pred_rf, average='weighted'),\n",
        "    'f1-score': f1_score(y_test, y_pred_rf, average='weighted')\n",
        "}"
      ]
    },
    {
      "cell_type": "code",
      "execution_count": null,
      "metadata": {
        "collapsed": true,
        "id": "r8hAZDH2KCXy"
      },
      "outputs": [],
      "source": [
        "# 14. Save Random Forest model\n",
        "joblib.dump(rf_model, \"rf_model.pkl\")"
      ]
    },
    {
      "cell_type": "code",
      "execution_count": null,
      "metadata": {
        "collapsed": true,
        "id": "erxrqM8K_yKt"
      },
      "outputs": [],
      "source": [
        "# 15. Tokenization for RoBERTa\n",
        "# Load tokenizer\n",
        "tokenizer = RobertaTokenizer.from_pretrained('roberta-base')\n",
        "\n",
        "# Define tokenization function\n",
        "def tokenize_function(examples):\n",
        "    return tokenizer(examples[\"text\"], padding=\"max_length\", truncation=True, max_length=128)\n",
        "\n",
        "# Convert Pandas DataFrame to Hugging Face Dataset\n",
        "train_df = pd.DataFrame({'text': X_train, 'label': y_train})\n",
        "test_df = pd.DataFrame({'text': X_test, 'label': y_test})\n",
        "\n",
        "train_dataset = Dataset.from_pandas(train_df).map(tokenize_function, batched=True, remove_columns=[\"text\"])\n",
        "test_dataset = Dataset.from_pandas(test_df).map(tokenize_function, batched=True, remove_columns=[\"text\"])"
      ]
    },
    {
      "cell_type": "code",
      "execution_count": null,
      "metadata": {
        "collapsed": true,
        "id": "DaVqowCm_yKt"
      },
      "outputs": [],
      "source": [
        "# 16. Load pre-trained RoBERTa model with sequence classification head\n",
        "device = torch.device(\"cuda\" if torch.cuda.is_available() else \"cpu\")\n",
        "\n",
        "# Load pre-trained RoBERTa model for classification\n",
        "model = RobertaForSequenceClassification.from_pretrained(\n",
        "    'roberta-base', num_labels=len(label_encoder.classes_)\n",
        ").to(device)  # Move model to GPU if available\n"
      ]
    },
    {
      "cell_type": "code",
      "execution_count": null,
      "metadata": {
        "collapsed": true,
        "id": "awRoHXHL_yKt"
      },
      "outputs": [],
      "source": [
        "# 17. Define training arguments\n",
        "training_args = TrainingArguments(\n",
        "    output_dir='./results',\n",
        "    eval_strategy=\"epoch\",\n",
        "    save_strategy=\"epoch\",\n",
        "    learning_rate=2e-5,\n",
        "    per_device_train_batch_size=16,\n",
        "    per_device_eval_batch_size=16,\n",
        "    num_train_epochs=3,\n",
        "    weight_decay=0.01,\n",
        "    logging_dir='./logs',\n",
        "    logging_steps=10,\n",
        "    save_steps=10,\n",
        "    load_best_model_at_end=True,\n",
        "    report_to=\"none\",  # Disable W&B logging if not needed\n",
        "    push_to_hub=False  # Ensure no API interactions\n",
        ")\n",
        "trainer = Trainer(\n",
        "    model=model,\n",
        "    args=training_args,\n",
        "    train_dataset=train_dataset,\n",
        "    eval_dataset=test_dataset,\n",
        "    tokenizer=tokenizer\n",
        ")\n",
        "\n"
      ]
    },
    {
      "cell_type": "code",
      "execution_count": null,
      "metadata": {
        "id": "I8h2rbqK2SCZ",
        "collapsed": true
      },
      "outputs": [],
      "source": [
        "# 18. Start training\n",
        "print(\"Training RoBERTa model...\")\n",
        "trainer.train()"
      ]
    },
    {
      "cell_type": "code",
      "execution_count": null,
      "metadata": {
        "id": "ba90CArd_yKu"
      },
      "outputs": [],
      "source": [
        "# 19. Evaluate RoBERTa model\n",
        "eval_results = trainer.evaluate(test_dataset)\n",
        "print(eval_results)"
      ]
    },
    {
      "cell_type": "code",
      "execution_count": null,
      "metadata": {
        "id": "5GbNwCZxCUg6"
      },
      "outputs": [],
      "source": [
        "# 20. Get predictions for RoBERTa\n",
        "y_pred_roberta = trainer.predict(test_dataset).predictions\n",
        "y_pred_roberta = np.argmax(y_pred_roberta, axis=1)"
      ]
    },
    {
      "cell_type": "code",
      "execution_count": null,
      "metadata": {
        "id": "_JV3klymC_-w"
      },
      "outputs": [],
      "source": [
        "# 21. Classification report of RoBERTa\n",
        "print(\"RoBERTa Classification Report:\")\n",
        "print(classification_report(y_test, y_pred_roberta, target_names=label_encoder.classes_))"
      ]
    },
    {
      "cell_type": "code",
      "execution_count": null,
      "metadata": {
        "id": "J_nlggTiCbtQ"
      },
      "outputs": [],
      "source": [
        "# 22. Calculate Random Forest performance\n",
        "roberta_eval_results = {\n",
        "    'accuracy': accuracy_score(y_test, y_pred_roberta),\n",
        "    'precision': precision_score(y_test, y_pred_roberta, average='weighted'),\n",
        "    'recall': recall_score(y_test, y_pred_roberta, average='weighted'),\n",
        "    'f1-score': f1_score(y_test, y_pred_roberta, average='weighted')\n",
        "}"
      ]
    },
    {
      "cell_type": "code",
      "execution_count": null,
      "metadata": {
        "id": "saPlK9iy_yKv"
      },
      "outputs": [],
      "source": [
        "# 23. Save RoBERTa model\n",
        "model.save_pretrained('./saved_model')\n",
        "tokenizer.save_pretrained('./saved_model')\n",
        "joblib.dump(label_encoder, \"./saved_model/label_encoder.pkl\")"
      ]
    },
    {
      "cell_type": "code",
      "execution_count": null,
      "metadata": {
        "collapsed": true,
        "id": "oKERc0SE_yKv"
      },
      "outputs": [],
      "source": [
        "# 24. Plot comparison graph\n",
        "metrics = ['accuracy', 'precision', 'recall', 'f1-score']\n",
        "roberta_scores = [roberta_eval_results[m] for m in metrics]\n",
        "svm_scores = [svm_eval_results[m] for m in metrics]\n",
        "rf_scores = [rf_eval_results[m] for m in metrics]\n",
        "\n",
        "x = np.arange(len(metrics))\n",
        "width = 0.25\n",
        "\n",
        "fig, ax = plt.subplots()\n",
        "rects1 = ax.bar(x - width, roberta_scores, width, label='RoBERTa')\n",
        "rects2 = ax.bar(x, svm_scores, width, label='SVM')\n",
        "rects3 = ax.bar(x + width, rf_scores, width, label='Random Forest')\n",
        "\n",
        "ax.set_ylabel('Scores')\n",
        "ax.set_title('Model Performance Comparison')\n",
        "ax.set_xticks(x)\n",
        "ax.set_xticklabels(metrics)\n",
        "ax.legend()\n",
        "\n",
        "plt.ylim(0, 1)\n",
        "plt.show()"
      ]
    },
    {
      "cell_type": "code",
      "execution_count": null,
      "metadata": {
        "id": "no8rwPsRMKL8"
      },
      "outputs": [],
      "source": [
        "# 25. Confusion Matrices\n",
        "fig, axes = plt.subplots(1, 3, figsize=(18, 5))\n",
        "models = ['Random Forest', 'SVM', 'RoBERTa']\n",
        "preds = [y_pred_rf, y_pred_svm, y_pred_roberta]\n",
        "for i, (model, y_pred) in enumerate(zip(models, preds)):\n",
        "    cm = confusion_matrix(y_test, y_pred)\n",
        "    sns.heatmap(cm, annot=True, fmt='d', cmap='Blues', ax=axes[i])\n",
        "    axes[i].set_title(f'{model} Confusion Matrix')\n",
        "    axes[i].set_xlabel('Predicted')\n",
        "    axes[i].set_ylabel('Actual')\n",
        "plt.show()"
      ]
    },
    {
      "cell_type": "code",
      "execution_count": null,
      "metadata": {
        "id": "3yZEADTaBMUz"
      },
      "outputs": [],
      "source": [
        "! pip install streamlit -q"
      ]
    },
    {
      "cell_type": "code",
      "execution_count": null,
      "metadata": {
        "id": "mJHYqwMUBS63"
      },
      "outputs": [],
      "source": [
        "! wget -q -O - ipv4.icanhazip.com"
      ]
    },
    {
      "cell_type": "code",
      "execution_count": null,
      "metadata": {
        "id": "PDKS2CSHBVJn"
      },
      "outputs": [],
      "source": [
        "%%writefile app.py\n",
        "import streamlit as st\n",
        "from transformers import RobertaTokenizer, RobertaForSequenceClassification, pipeline\n",
        "import os\n",
        "import joblib\n",
        "import torch\n",
        "\n",
        "# Ensure the model is correctly located (Colab path handling)\n",
        "model_path = \"/content/saved_model\"  # Adjust this if the model is in another directory\n",
        "\n",
        "# Streamlit UI\n",
        "st.title(\"Sentiment Classification Using RoBERTa\")\n",
        "st.write(\"Enter a text below, and the app will predict its sentiment.\")\n",
        "\n",
        "if not os.path.exists(model_path):\n",
        "    st.error(\"Model directory not found! Ensure you have trained and saved the model.\")\n",
        "else:\n",
        "    try:\n",
        "        # Load model and tokenizer\n",
        "        model = RobertaForSequenceClassification.from_pretrained(model_path)\n",
        "        tokenizer = RobertaTokenizer.from_pretrained(model_path)\n",
        "\n",
        "        # Load LabelEncoder to decode sentiment labels\n",
        "        label_encoder_path = os.path.join(model_path, \"label_encoder.pkl\")\n",
        "        if os.path.exists(label_encoder_path):\n",
        "            label_encoder = joblib.load(label_encoder_path)\n",
        "        else:\n",
        "            st.error(\"Label encoder not found!\")\n",
        "            label_encoder = None  # Prevent crash if missing\n",
        "\n",
        "        # Create sentiment analysis pipeline (ensuring GPU is used if available)\n",
        "        device = 0 if torch.cuda.is_available() else -1  # Use GPU if available\n",
        "        predictor = pipeline(\"sentiment-analysis\", model=model, tokenizer=tokenizer, device=device)\n",
        "\n",
        "        # Text input\n",
        "        text_input = st.text_area(\"Enter text:\", \"\")\n",
        "\n",
        "        if st.button(\"Analyze\"):\n",
        "            if text_input.strip():\n",
        "                result = predictor(text_input)\n",
        "                predicted_label = result[0]['label']\n",
        "                confidence = result[0]['score']\n",
        "\n",
        "                # Convert \"LABEL_X\" to actual sentiment if label_encoder is loaded\n",
        "                if label_encoder:\n",
        "                    label_index = int(predicted_label.split('_')[-1])\n",
        "                    decoded_label = label_encoder.inverse_transform([label_index])[0]\n",
        "                    st.success(f\"**Prediction:** {decoded_label}\")\n",
        "                else:\n",
        "                    st.success(f\"**Prediction (Raw):** {predicted_label}\")\n",
        "\n",
        "                st.write(f\"**Confidence:** {confidence:.4f}\")\n",
        "\n",
        "            else:\n",
        "                st.warning(\"Please enter some text.\")\n",
        "\n",
        "    except Exception as e:\n",
        "        st.error(f\"Error loading model: {str(e)}\")"
      ]
    },
    {
      "cell_type": "code",
      "execution_count": null,
      "metadata": {
        "id": "4HCYML0PBXm4"
      },
      "outputs": [],
      "source": [
        "! streamlit run app.py & npx localtunnel --port 8501"
      ]
    }
  ],
  "metadata": {
    "accelerator": "GPU",
    "colab": {
      "gpuType": "T4",
      "provenance": [],
      "include_colab_link": true
    },
    "kernelspec": {
      "display_name": "Python 3",
      "name": "python3"
    },
    "language_info": {
      "codemirror_mode": {
        "name": "ipython",
        "version": 3
      },
      "file_extension": ".py",
      "mimetype": "text/x-python",
      "name": "python",
      "nbconvert_exporter": "python",
      "pygments_lexer": "ipython3",
      "version": "3.10.0"
    }
  },
  "nbformat": 4,
  "nbformat_minor": 0
}